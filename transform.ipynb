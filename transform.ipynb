{
 "cells": [
  {
   "cell_type": "code",
   "execution_count": 23,
   "id": "a2eb5f0e-b7d1-4730-abe3-a24f661986b9",
   "metadata": {},
   "outputs": [],
   "source": [
    "import os\n",
    "from dotenv import load_dotenv\n",
    "from sqlalchemy import create_engine\n",
    "from db_connection import connect_to_db\n",
    "import pandas as pd\n",
    "import pymysql\n",
    "import warnings"
   ]
  },
  {
   "cell_type": "code",
   "execution_count": 24,
   "id": "ecf87b81-5369-4ef3-ae67-d96dc0be5bb7",
   "metadata": {},
   "outputs": [],
   "source": [
    "credentials = connect_to_db()"
   ]
  },
  {
   "cell_type": "code",
   "execution_count": 25,
   "id": "ca2f032d-efe1-46c6-b01c-17b97d05e94d",
   "metadata": {},
   "outputs": [],
   "source": [
    "warnings.filterwarnings(\"ignore\", category=UserWarning, message=\"pandas only supports SQLAlchemy connectable\")"
   ]
  },
  {
   "cell_type": "code",
   "execution_count": 26,
   "id": "4c5c1dd7-5af5-4576-89a7-f3e57479d3aa",
   "metadata": {},
   "outputs": [
    {
     "name": "stdout",
     "output_type": "stream",
     "text": [
      "   id flight_date flight_status departure_airport departure_timezone  \\\n",
      "0   1  2025-03-08     scheduled    Haneda Airport         Asia/Tokyo   \n",
      "1   2  2025-03-08     scheduled    Haneda Airport         Asia/Tokyo   \n",
      "2   3  2025-03-08     scheduled    Haneda Airport         Asia/Tokyo   \n",
      "3   4  2025-03-08     scheduled    Haneda Airport         Asia/Tokyo   \n",
      "4   5  2025-03-08     scheduled    Haneda Airport         Asia/Tokyo   \n",
      "\n",
      "  departure_scheduled departure_estimated             arrival_airport  \\\n",
      "0 2025-03-08 08:15:00 2025-03-08 08:15:00  Tan Son Nhat International   \n",
      "1 2025-03-08 08:15:00 2025-03-08 08:15:00  Tan Son Nhat International   \n",
      "2 2025-03-08 08:15:00 2025-03-08 08:15:00  Tan Son Nhat International   \n",
      "3 2025-03-08 07:45:00 2025-03-08 07:45:00             Seoul (Incheon)   \n",
      "4 2025-03-08 07:45:00 2025-03-08 07:45:00             Seoul (Incheon)   \n",
      "\n",
      "   arrival_timezone   arrival_scheduled   arrival_estimated     airline_name  \\\n",
      "0  Asia/Ho_Chi_Minh 2025-03-08 13:05:00 2025-03-08 13:05:00       FlexFlight   \n",
      "1  Asia/Ho_Chi_Minh 2025-03-08 13:05:00 2025-03-08 13:05:00             None   \n",
      "2  Asia/Ho_Chi_Minh 2025-03-08 13:05:00 2025-03-08 13:05:00             None   \n",
      "3        Asia/Seoul 2025-03-08 10:35:00 2025-03-08 10:35:00  Virgin Atlantic   \n",
      "4        Asia/Seoul 2025-03-08 10:35:00 2025-03-08 10:35:00       Air France   \n",
      "\n",
      "  flight_number flight_icao  \n",
      "0          4821     FXT4821  \n",
      "1          2821      A12821  \n",
      "2          4012      H14012  \n",
      "3          5530     VIR5530  \n",
      "4          5367     AFR5367  \n"
     ]
    }
   ],
   "source": [
    "engine = create_engine(f'mysql+pymysql://{credentials['user']}:{credentials['password']}@{credentials['host']}/{credentials['database']}')\n",
    "sql_engine = engine.connect().connection\n",
    "df = pd.read_sql('SELECT * FROM aviation_data;', sql_engine)\n",
    "print(df.head())"
   ]
  },
  {
   "cell_type": "code",
   "execution_count": 31,
   "id": "48075af9-0fe2-494d-aacb-9b9183259219",
   "metadata": {},
   "outputs": [
    {
     "name": "stdout",
     "output_type": "stream",
     "text": [
      "620\n"
     ]
    }
   ],
   "source": [
    "print(df['id'].count())"
   ]
  },
  {
   "cell_type": "code",
   "execution_count": null,
   "id": "cc85cca0-563c-4af9-9b8e-55d201ed4e64",
   "metadata": {},
   "outputs": [],
   "source": []
  }
 ],
 "metadata": {
  "kernelspec": {
   "display_name": "Python 3 (ipykernel)",
   "language": "python",
   "name": "python3"
  },
  "language_info": {
   "codemirror_mode": {
    "name": "ipython",
    "version": 3
   },
   "file_extension": ".py",
   "mimetype": "text/x-python",
   "name": "python",
   "nbconvert_exporter": "python",
   "pygments_lexer": "ipython3",
   "version": "3.12.2"
  }
 },
 "nbformat": 4,
 "nbformat_minor": 5
}
